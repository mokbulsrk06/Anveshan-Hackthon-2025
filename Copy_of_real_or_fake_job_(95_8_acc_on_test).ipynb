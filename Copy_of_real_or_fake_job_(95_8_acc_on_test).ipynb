{
  "metadata": {
    "kernelspec": {
      "name": "python3",
      "display_name": "Python 3",
      "language": "python"
    },
    "language_info": {
      "name": "python",
      "version": "3.11.11",
      "mimetype": "text/x-python",
      "codemirror_mode": {
        "name": "ipython",
        "version": 3
      },
      "pygments_lexer": "ipython3",
      "nbconvert_exporter": "python",
      "file_extension": ".py"
    },
    "kaggle": {
      "accelerator": "gpu",
      "dataSources": [
        {
          "sourceId": 976879,
          "sourceType": "datasetVersion",
          "datasetId": 533871
        }
      ],
      "dockerImageVersionId": 31011,
      "isInternetEnabled": true,
      "language": "python",
      "sourceType": "notebook",
      "isGpuEnabled": true
    },
    "colab": {
      "provenance": [],
      "include_colab_link": true
    }
  },
  "nbformat_minor": 0,
  "nbformat": 4,
  "cells": [
    {
      "cell_type": "markdown",
      "metadata": {
        "id": "view-in-github",
        "colab_type": "text"
      },
      "source": [
        "<a href=\"https://colab.research.google.com/github/mokbulsrk06/Anveshan-Hackthon-2025/blob/main/Copy_of_real_or_fake_job_(95_8_acc_on_test).ipynb\" target=\"_parent\"><img src=\"https://colab.research.google.com/assets/colab-badge.svg\" alt=\"Open In Colab\"/></a>"
      ]
    },
    {
      "cell_type": "code",
      "source": [
        "import numpy as np\n",
        "import pandas as pd\n",
        "import matplotlib.pyplot as plt\n",
        "import seaborn as sns\n",
        "\n",
        "from sklearn.model_selection import train_test_split\n",
        "from tensorflow.keras.preprocessing.sequence import pad_sequences\n",
        "from tensorflow.keras.preprocessing.text import Tokenizer\n",
        "\n",
        "from tensorflow.keras.models import Sequential\n",
        "from tensorflow.keras.layers import Embedding,SimpleRNN,LSTM,GRU,Dense\n",
        "from tensorflow.keras.optimizers import Adam"
      ],
      "metadata": {
        "_cell_guid": "b1076dfc-b9ad-4769-8c92-a6c4dae69d19",
        "_uuid": "8f2839f25d086af736a60e9eeb907d3b93b6e0e5",
        "execution": {
          "iopub.status.busy": "2025-04-21T02:09:49.923215Z",
          "iopub.execute_input": "2025-04-21T02:09:49.923468Z",
          "iopub.status.idle": "2025-04-21T02:10:03.240656Z",
          "shell.execute_reply.started": "2025-04-21T02:09:49.923447Z",
          "shell.execute_reply": "2025-04-21T02:10:03.239848Z"
        },
        "trusted": true,
        "id": "xSVToPt7Pp9k"
      },
      "outputs": [],
      "execution_count": null
    },
    {
      "cell_type": "code",
      "source": [
        "from google.colab import files\n",
        "uploaded = files.upload()  # upload your CSV\n",
        "\n",
        "df.head()"
      ],
      "metadata": {
        "colab": {
          "base_uri": "https://localhost:8080/",
          "height": 56
        },
        "id": "nsIhvdTkSPyX",
        "outputId": "d5699d4a-7253-48d9-afdf-8e3e5eb8ee3d"
      },
      "execution_count": null,
      "outputs": [
        {
          "output_type": "display_data",
          "data": {
            "text/plain": [
              "<IPython.core.display.HTML object>"
            ],
            "text/html": [
              "\n",
              "     <input type=\"file\" id=\"files-40477e2a-51a0-4b11-aac6-4e2cddb0d721\" name=\"files[]\" multiple disabled\n",
              "        style=\"border:none\" />\n",
              "     <output id=\"result-40477e2a-51a0-4b11-aac6-4e2cddb0d721\">\n",
              "      Upload widget is only available when the cell has been executed in the\n",
              "      current browser session. Please rerun this cell to enable.\n",
              "      </output>\n",
              "      <script>// Copyright 2017 Google LLC\n",
              "//\n",
              "// Licensed under the Apache License, Version 2.0 (the \"License\");\n",
              "// you may not use this file except in compliance with the License.\n",
              "// You may obtain a copy of the License at\n",
              "//\n",
              "//      http://www.apache.org/licenses/LICENSE-2.0\n",
              "//\n",
              "// Unless required by applicable law or agreed to in writing, software\n",
              "// distributed under the License is distributed on an \"AS IS\" BASIS,\n",
              "// WITHOUT WARRANTIES OR CONDITIONS OF ANY KIND, either express or implied.\n",
              "// See the License for the specific language governing permissions and\n",
              "// limitations under the License.\n",
              "\n",
              "/**\n",
              " * @fileoverview Helpers for google.colab Python module.\n",
              " */\n",
              "(function(scope) {\n",
              "function span(text, styleAttributes = {}) {\n",
              "  const element = document.createElement('span');\n",
              "  element.textContent = text;\n",
              "  for (const key of Object.keys(styleAttributes)) {\n",
              "    element.style[key] = styleAttributes[key];\n",
              "  }\n",
              "  return element;\n",
              "}\n",
              "\n",
              "// Max number of bytes which will be uploaded at a time.\n",
              "const MAX_PAYLOAD_SIZE = 100 * 1024;\n",
              "\n",
              "function _uploadFiles(inputId, outputId) {\n",
              "  const steps = uploadFilesStep(inputId, outputId);\n",
              "  const outputElement = document.getElementById(outputId);\n",
              "  // Cache steps on the outputElement to make it available for the next call\n",
              "  // to uploadFilesContinue from Python.\n",
              "  outputElement.steps = steps;\n",
              "\n",
              "  return _uploadFilesContinue(outputId);\n",
              "}\n",
              "\n",
              "// This is roughly an async generator (not supported in the browser yet),\n",
              "// where there are multiple asynchronous steps and the Python side is going\n",
              "// to poll for completion of each step.\n",
              "// This uses a Promise to block the python side on completion of each step,\n",
              "// then passes the result of the previous step as the input to the next step.\n",
              "function _uploadFilesContinue(outputId) {\n",
              "  const outputElement = document.getElementById(outputId);\n",
              "  const steps = outputElement.steps;\n",
              "\n",
              "  const next = steps.next(outputElement.lastPromiseValue);\n",
              "  return Promise.resolve(next.value.promise).then((value) => {\n",
              "    // Cache the last promise value to make it available to the next\n",
              "    // step of the generator.\n",
              "    outputElement.lastPromiseValue = value;\n",
              "    return next.value.response;\n",
              "  });\n",
              "}\n",
              "\n",
              "/**\n",
              " * Generator function which is called between each async step of the upload\n",
              " * process.\n",
              " * @param {string} inputId Element ID of the input file picker element.\n",
              " * @param {string} outputId Element ID of the output display.\n",
              " * @return {!Iterable<!Object>} Iterable of next steps.\n",
              " */\n",
              "function* uploadFilesStep(inputId, outputId) {\n",
              "  const inputElement = document.getElementById(inputId);\n",
              "  inputElement.disabled = false;\n",
              "\n",
              "  const outputElement = document.getElementById(outputId);\n",
              "  outputElement.innerHTML = '';\n",
              "\n",
              "  const pickedPromise = new Promise((resolve) => {\n",
              "    inputElement.addEventListener('change', (e) => {\n",
              "      resolve(e.target.files);\n",
              "    });\n",
              "  });\n",
              "\n",
              "  const cancel = document.createElement('button');\n",
              "  inputElement.parentElement.appendChild(cancel);\n",
              "  cancel.textContent = 'Cancel upload';\n",
              "  const cancelPromise = new Promise((resolve) => {\n",
              "    cancel.onclick = () => {\n",
              "      resolve(null);\n",
              "    };\n",
              "  });\n",
              "\n",
              "  // Wait for the user to pick the files.\n",
              "  const files = yield {\n",
              "    promise: Promise.race([pickedPromise, cancelPromise]),\n",
              "    response: {\n",
              "      action: 'starting',\n",
              "    }\n",
              "  };\n",
              "\n",
              "  cancel.remove();\n",
              "\n",
              "  // Disable the input element since further picks are not allowed.\n",
              "  inputElement.disabled = true;\n",
              "\n",
              "  if (!files) {\n",
              "    return {\n",
              "      response: {\n",
              "        action: 'complete',\n",
              "      }\n",
              "    };\n",
              "  }\n",
              "\n",
              "  for (const file of files) {\n",
              "    const li = document.createElement('li');\n",
              "    li.append(span(file.name, {fontWeight: 'bold'}));\n",
              "    li.append(span(\n",
              "        `(${file.type || 'n/a'}) - ${file.size} bytes, ` +\n",
              "        `last modified: ${\n",
              "            file.lastModifiedDate ? file.lastModifiedDate.toLocaleDateString() :\n",
              "                                    'n/a'} - `));\n",
              "    const percent = span('0% done');\n",
              "    li.appendChild(percent);\n",
              "\n",
              "    outputElement.appendChild(li);\n",
              "\n",
              "    const fileDataPromise = new Promise((resolve) => {\n",
              "      const reader = new FileReader();\n",
              "      reader.onload = (e) => {\n",
              "        resolve(e.target.result);\n",
              "      };\n",
              "      reader.readAsArrayBuffer(file);\n",
              "    });\n",
              "    // Wait for the data to be ready.\n",
              "    let fileData = yield {\n",
              "      promise: fileDataPromise,\n",
              "      response: {\n",
              "        action: 'continue',\n",
              "      }\n",
              "    };\n",
              "\n",
              "    // Use a chunked sending to avoid message size limits. See b/62115660.\n",
              "    let position = 0;\n",
              "    do {\n",
              "      const length = Math.min(fileData.byteLength - position, MAX_PAYLOAD_SIZE);\n",
              "      const chunk = new Uint8Array(fileData, position, length);\n",
              "      position += length;\n",
              "\n",
              "      const base64 = btoa(String.fromCharCode.apply(null, chunk));\n",
              "      yield {\n",
              "        response: {\n",
              "          action: 'append',\n",
              "          file: file.name,\n",
              "          data: base64,\n",
              "        },\n",
              "      };\n",
              "\n",
              "      let percentDone = fileData.byteLength === 0 ?\n",
              "          100 :\n",
              "          Math.round((position / fileData.byteLength) * 100);\n",
              "      percent.textContent = `${percentDone}% done`;\n",
              "\n",
              "    } while (position < fileData.byteLength);\n",
              "  }\n",
              "\n",
              "  // All done.\n",
              "  yield {\n",
              "    response: {\n",
              "      action: 'complete',\n",
              "    }\n",
              "  };\n",
              "}\n",
              "\n",
              "scope.google = scope.google || {};\n",
              "scope.google.colab = scope.google.colab || {};\n",
              "scope.google.colab._files = {\n",
              "  _uploadFiles,\n",
              "  _uploadFilesContinue,\n",
              "};\n",
              "})(self);\n",
              "</script> "
            ]
          },
          "metadata": {}
        }
      ]
    },
    {
      "cell_type": "code",
      "source": [
        "df.info()"
      ],
      "metadata": {
        "execution": {
          "iopub.status.busy": "2025-04-21T02:10:04.310286Z",
          "iopub.execute_input": "2025-04-21T02:10:04.310577Z",
          "iopub.status.idle": "2025-04-21T02:10:04.340477Z",
          "shell.execute_reply.started": "2025-04-21T02:10:04.310549Z",
          "shell.execute_reply": "2025-04-21T02:10:04.339847Z"
        },
        "trusted": true,
        "id": "0LDFKdTLPp9m"
      },
      "outputs": [],
      "execution_count": null
    },
    {
      "cell_type": "code",
      "source": [
        "df.isna().sum()\n"
      ],
      "metadata": {
        "execution": {
          "iopub.status.busy": "2025-04-21T02:10:04.341835Z",
          "iopub.execute_input": "2025-04-21T02:10:04.342104Z",
          "iopub.status.idle": "2025-04-21T02:10:04.366207Z",
          "shell.execute_reply.started": "2025-04-21T02:10:04.34208Z",
          "shell.execute_reply": "2025-04-21T02:10:04.365613Z"
        },
        "trusted": true,
        "id": "ODulFYDrPp9n"
      },
      "outputs": [],
      "execution_count": null
    },
    {
      "cell_type": "code",
      "source": [
        "df.drop(columns= ['job_id', 'salary_range'], inplace= True)\n"
      ],
      "metadata": {
        "execution": {
          "iopub.status.busy": "2025-04-21T02:10:04.366785Z",
          "iopub.execute_input": "2025-04-21T02:10:04.36703Z",
          "iopub.status.idle": "2025-04-21T02:10:04.380028Z",
          "shell.execute_reply.started": "2025-04-21T02:10:04.367011Z",
          "shell.execute_reply": "2025-04-21T02:10:04.379399Z"
        },
        "trusted": true,
        "id": "9N3DwHDkPp9n"
      },
      "outputs": [],
      "execution_count": null
    },
    {
      "cell_type": "code",
      "source": [
        "df.fillna(\" \",inplace = True)"
      ],
      "metadata": {
        "execution": {
          "iopub.status.busy": "2025-04-21T02:10:04.380674Z",
          "iopub.execute_input": "2025-04-21T02:10:04.380884Z",
          "iopub.status.idle": "2025-04-21T02:10:04.408981Z",
          "shell.execute_reply.started": "2025-04-21T02:10:04.380869Z",
          "shell.execute_reply": "2025-04-21T02:10:04.408446Z"
        },
        "trusted": true,
        "id": "_B6qtHHwPp9o"
      },
      "outputs": [],
      "execution_count": null
    },
    {
      "cell_type": "code",
      "source": [
        "df['text'] = df['title'] + ' ' + df['location'] + ' ' + df['department'] + ' ' + df['company_profile'] + ' ' + df['description'] + ' ' + df['requirements'] + ' ' + df['benefits'] + ' ' + df['employment_type'] + ' ' + df['required_education'] + ' ' + df['industry'] + ' ' + df['function']"
      ],
      "metadata": {
        "execution": {
          "iopub.status.busy": "2025-04-21T02:10:04.409646Z",
          "iopub.execute_input": "2025-04-21T02:10:04.4099Z",
          "iopub.status.idle": "2025-04-21T02:10:04.820691Z",
          "shell.execute_reply.started": "2025-04-21T02:10:04.409878Z",
          "shell.execute_reply": "2025-04-21T02:10:04.819957Z"
        },
        "trusted": true,
        "id": "PMAFxrkLPp9p"
      },
      "outputs": [],
      "execution_count": null
    },
    {
      "cell_type": "code",
      "source": [
        "df = df[[\"text\", \"telecommuting\", \"has_company_logo\", \"has_questions\", \"fraudulent\"]]\n"
      ],
      "metadata": {
        "execution": {
          "iopub.status.busy": "2025-04-21T02:10:04.821395Z",
          "iopub.execute_input": "2025-04-21T02:10:04.821582Z",
          "iopub.status.idle": "2025-04-21T02:10:04.828051Z",
          "shell.execute_reply.started": "2025-04-21T02:10:04.821566Z",
          "shell.execute_reply": "2025-04-21T02:10:04.827495Z"
        },
        "trusted": true,
        "id": "fYCZMci7Pp9p"
      },
      "outputs": [],
      "execution_count": null
    },
    {
      "cell_type": "code",
      "source": [
        "df.head()"
      ],
      "metadata": {
        "trusted": true,
        "execution": {
          "iopub.status.busy": "2025-04-21T02:10:04.828624Z",
          "iopub.execute_input": "2025-04-21T02:10:04.828856Z",
          "iopub.status.idle": "2025-04-21T02:10:04.859465Z",
          "shell.execute_reply.started": "2025-04-21T02:10:04.828832Z",
          "shell.execute_reply": "2025-04-21T02:10:04.858874Z"
        },
        "id": "RR21_4-MPp9q"
      },
      "outputs": [],
      "execution_count": null
    },
    {
      "cell_type": "code",
      "source": [
        "df[\"fraudulent\"].value_counts()"
      ],
      "metadata": {
        "trusted": true,
        "execution": {
          "iopub.status.busy": "2025-04-21T02:10:04.861945Z",
          "iopub.execute_input": "2025-04-21T02:10:04.862155Z",
          "iopub.status.idle": "2025-04-21T02:10:04.876131Z",
          "shell.execute_reply.started": "2025-04-21T02:10:04.862141Z",
          "shell.execute_reply": "2025-04-21T02:10:04.875456Z"
        },
        "id": "tyM8JLgMPp9r"
      },
      "outputs": [],
      "execution_count": null
    },
    {
      "cell_type": "code",
      "source": [
        "Tokenizer = Tokenizer()\n",
        "Tokenizer.fit_on_texts(df['text'])"
      ],
      "metadata": {
        "trusted": true,
        "execution": {
          "iopub.status.busy": "2025-04-21T02:10:04.876816Z",
          "iopub.execute_input": "2025-04-21T02:10:04.877122Z",
          "iopub.status.idle": "2025-04-21T02:10:12.624417Z",
          "shell.execute_reply.started": "2025-04-21T02:10:04.877099Z",
          "shell.execute_reply": "2025-04-21T02:10:12.62363Z"
        },
        "id": "gqjTJh3HPp9r"
      },
      "outputs": [],
      "execution_count": null
    },
    {
      "cell_type": "code",
      "source": [
        "Tokenizer.word_index"
      ],
      "metadata": {
        "trusted": true,
        "execution": {
          "iopub.status.busy": "2025-04-21T02:10:12.625291Z",
          "iopub.execute_input": "2025-04-21T02:10:12.625881Z",
          "iopub.status.idle": "2025-04-21T02:10:12.640113Z",
          "shell.execute_reply.started": "2025-04-21T02:10:12.625857Z",
          "shell.execute_reply": "2025-04-21T02:10:12.639457Z"
        },
        "id": "aUC5Rlt4Pp9r"
      },
      "outputs": [],
      "execution_count": null
    },
    {
      "cell_type": "code",
      "source": [
        "sequences= Tokenizer.texts_to_sequences(df['text'])"
      ],
      "metadata": {
        "trusted": true,
        "execution": {
          "iopub.status.busy": "2025-04-21T02:10:12.640846Z",
          "iopub.execute_input": "2025-04-21T02:10:12.64152Z",
          "iopub.status.idle": "2025-04-21T02:10:18.890505Z",
          "shell.execute_reply.started": "2025-04-21T02:10:12.641503Z",
          "shell.execute_reply": "2025-04-21T02:10:18.889963Z"
        },
        "id": "m_Aqu1mqPp9s"
      },
      "outputs": [],
      "execution_count": null
    },
    {
      "cell_type": "code",
      "source": [
        "sequences[0]"
      ],
      "metadata": {
        "trusted": true,
        "execution": {
          "iopub.status.busy": "2025-04-21T02:10:18.891362Z",
          "iopub.execute_input": "2025-04-21T02:10:18.891569Z",
          "iopub.status.idle": "2025-04-21T02:10:18.898574Z",
          "shell.execute_reply.started": "2025-04-21T02:10:18.891553Z",
          "shell.execute_reply": "2025-04-21T02:10:18.897979Z"
        },
        "id": "-FPeSDQ8Pp9s"
      },
      "outputs": [],
      "execution_count": null
    },
    {
      "cell_type": "code",
      "source": [
        "max_number=max([len(x) for x in sequences])\n",
        "max_number"
      ],
      "metadata": {
        "trusted": true,
        "execution": {
          "iopub.status.busy": "2025-04-21T02:10:18.899207Z",
          "iopub.execute_input": "2025-04-21T02:10:18.899378Z",
          "iopub.status.idle": "2025-04-21T02:10:18.915894Z",
          "shell.execute_reply.started": "2025-04-21T02:10:18.899365Z",
          "shell.execute_reply": "2025-04-21T02:10:18.915289Z"
        },
        "id": "fYvlgoThPp9s"
      },
      "outputs": [],
      "execution_count": null
    },
    {
      "cell_type": "code",
      "source": [
        "pad=pad_sequences(sequences, maxlen=max_number, padding='pre', truncating='post')\n",
        "pad[0]"
      ],
      "metadata": {
        "trusted": true,
        "execution": {
          "iopub.status.busy": "2025-04-21T02:10:18.91657Z",
          "iopub.execute_input": "2025-04-21T02:10:18.916744Z",
          "iopub.status.idle": "2025-04-21T02:10:19.338558Z",
          "shell.execute_reply.started": "2025-04-21T02:10:18.91673Z",
          "shell.execute_reply": "2025-04-21T02:10:19.33799Z"
        },
        "id": "vKChfR9XPp9s"
      },
      "outputs": [],
      "execution_count": null
    },
    {
      "cell_type": "code",
      "source": [
        "x_train, x_temp, y_train, y_temp = train_test_split(\n",
        "    pad,df[\"fraudulent\"] , test_size=0.4, random_state=42\n",
        ")\n",
        "\n",
        "x_val, x_test, y_val, y_test = train_test_split(\n",
        "    x_temp, y_temp, test_size=0.5, random_state=42\n",
        ")"
      ],
      "metadata": {
        "trusted": true,
        "execution": {
          "iopub.status.busy": "2025-04-21T02:10:19.3392Z",
          "iopub.execute_input": "2025-04-21T02:10:19.339422Z",
          "iopub.status.idle": "2025-04-21T02:10:19.417251Z",
          "shell.execute_reply.started": "2025-04-21T02:10:19.339406Z",
          "shell.execute_reply": "2025-04-21T02:10:19.416582Z"
        },
        "id": "0RFfBFqoPp9t"
      },
      "outputs": [],
      "execution_count": null
    },
    {
      "cell_type": "code",
      "source": [
        "class_namee = np.unique(y_train)\n",
        "class_namee"
      ],
      "metadata": {
        "trusted": true,
        "execution": {
          "iopub.status.busy": "2025-04-21T02:10:19.417991Z",
          "iopub.execute_input": "2025-04-21T02:10:19.418228Z",
          "iopub.status.idle": "2025-04-21T02:10:19.423652Z",
          "shell.execute_reply.started": "2025-04-21T02:10:19.41821Z",
          "shell.execute_reply": "2025-04-21T02:10:19.422976Z"
        },
        "id": "XllmEdkmPp9t"
      },
      "outputs": [],
      "execution_count": null
    },
    {
      "cell_type": "code",
      "source": [
        "vocab_size=len(Tokenizer.word_index)+1\n",
        "vocab_size"
      ],
      "metadata": {
        "trusted": true,
        "execution": {
          "iopub.status.busy": "2025-04-21T02:10:19.424443Z",
          "iopub.execute_input": "2025-04-21T02:10:19.424712Z",
          "iopub.status.idle": "2025-04-21T02:10:19.439575Z",
          "shell.execute_reply.started": "2025-04-21T02:10:19.424694Z",
          "shell.execute_reply": "2025-04-21T02:10:19.438903Z"
        },
        "id": "E3G8NaFjPp9t"
      },
      "outputs": [],
      "execution_count": null
    },
    {
      "cell_type": "code",
      "source": [
        "from tensorflow.keras.callbacks import EarlyStopping, ReduceLROnPlateau, ModelCheckpoint\n",
        "early_stop = EarlyStopping(\n",
        "            monitor='val_loss',\n",
        "            patience=10,\n",
        "            verbose=1,\n",
        "            mode='min',\n",
        "            restore_best_weights=True)\n",
        "reduce_lr = ReduceLROnPlateau(\n",
        "            monitor='val_loss',\n",
        "            factor=0.2,\n",
        "            patience=3,\n",
        "            min_lr=1e-30,\n",
        "            verbose=1,\n",
        "            mode='min')\n",
        "Checkpoint= ModelCheckpoint(\n",
        "            'cancer_model.keras',\n",
        "            monitor='val_accuracy',\n",
        "            save_best_only=True,\n",
        "            verbose=1,\n",
        "            mode='max')\n",
        "callbacks = [early_stop, reduce_lr, Checkpoint]"
      ],
      "metadata": {
        "trusted": true,
        "execution": {
          "iopub.status.busy": "2025-04-21T02:10:19.440286Z",
          "iopub.execute_input": "2025-04-21T02:10:19.440482Z",
          "iopub.status.idle": "2025-04-21T02:10:19.456721Z",
          "shell.execute_reply.started": "2025-04-21T02:10:19.440467Z",
          "shell.execute_reply": "2025-04-21T02:10:19.455957Z"
        },
        "id": "yM-WzoQsPp9t"
      },
      "outputs": [],
      "execution_count": null
    },
    {
      "cell_type": "code",
      "source": [
        "RNN_model=Sequential([\n",
        "    Embedding(input_dim=vocab_size, output_dim=128, input_length=max_number),\n",
        "    SimpleRNN(256, return_sequences=True,activation='tanh'),\n",
        "    SimpleRNN(128, return_sequences=False,activation='tanh'),\n",
        "    Dense(64,activation='tanh'),\n",
        "    Dense(32,activation='tanh'),\n",
        "    Dense(1, activation='sigmoid')\n",
        "])\n",
        "RNN_model.compile(optimizer=Adam(learning_rate=0.001), loss='binary_crossentropy', metrics=['accuracy'])\n",
        "RNN_model.summary()"
      ],
      "metadata": {
        "trusted": true,
        "execution": {
          "iopub.status.busy": "2025-04-21T02:10:19.457607Z",
          "iopub.execute_input": "2025-04-21T02:10:19.457862Z",
          "iopub.status.idle": "2025-04-21T02:10:20.647768Z",
          "shell.execute_reply.started": "2025-04-21T02:10:19.457838Z",
          "shell.execute_reply": "2025-04-21T02:10:20.647233Z"
        },
        "id": "mlRCjfrVPp9t"
      },
      "outputs": [],
      "execution_count": null
    },
    {
      "cell_type": "code",
      "source": [
        "RNN_model.fit(x_train, y_train,\n",
        "              validation_data=(x_val, y_val),\n",
        "              epochs=20, batch_size=16, verbose=1, callbacks=callbacks)"
      ],
      "metadata": {
        "trusted": true,
        "execution": {
          "iopub.status.busy": "2025-04-21T02:10:20.648406Z",
          "iopub.execute_input": "2025-04-21T02:10:20.648616Z",
          "iopub.status.idle": "2025-04-21T03:02:29.567126Z",
          "shell.execute_reply.started": "2025-04-21T02:10:20.648593Z",
          "shell.execute_reply": "2025-04-21T03:02:29.56648Z"
        },
        "id": "7qChYFGcPp9u"
      },
      "outputs": [],
      "execution_count": null
    },
    {
      "cell_type": "code",
      "source": [
        "RNN_model.evaluate(x_train, y_train)\n",
        "RNN_model.evaluate(x_val, y_val)\n",
        "RNN_model.evaluate(x_test, y_test)"
      ],
      "metadata": {
        "trusted": true,
        "execution": {
          "iopub.status.busy": "2025-04-21T03:02:29.56786Z",
          "iopub.execute_input": "2025-04-21T03:02:29.568096Z",
          "iopub.status.idle": "2025-04-21T03:03:32.395279Z",
          "shell.execute_reply.started": "2025-04-21T03:02:29.568073Z",
          "shell.execute_reply": "2025-04-21T03:03:32.394672Z"
        },
        "id": "uIUTQV7IPp9u"
      },
      "outputs": [],
      "execution_count": null
    },
    {
      "cell_type": "code",
      "source": [
        "preds = RNN_model.predict(x_test)\n",
        "y_pred = np.argmax(preds, axis=1)"
      ],
      "metadata": {
        "trusted": true,
        "execution": {
          "iopub.status.busy": "2025-04-21T03:03:32.396098Z",
          "iopub.execute_input": "2025-04-21T03:03:32.396359Z",
          "iopub.status.idle": "2025-04-21T03:03:45.518047Z",
          "shell.execute_reply.started": "2025-04-21T03:03:32.39633Z",
          "shell.execute_reply": "2025-04-21T03:03:45.517455Z"
        },
        "id": "FVPWkMDnPp9u"
      },
      "outputs": [],
      "execution_count": null
    },
    {
      "cell_type": "code",
      "source": [
        "from sklearn.metrics import confusion_matrix\n",
        "import seaborn as sns\n",
        "import matplotlib.pyplot as plt\n",
        "\n",
        "y_true = y_test.values  # Use the values of the pandas Series\n",
        "cm = confusion_matrix(y_true, y_pred)\n",
        "\n",
        "plt.figure(figsize=(10, 8))\n",
        "sns.heatmap(\n",
        "    cm,\n",
        "    annot=True,\n",
        "    fmt='d',\n",
        "    cmap=\"Blues\",\n",
        "    xticklabels=class_namee,  # Use the unique class labels\n",
        "    yticklabels=class_namee)  # Use the unique class labels\n",
        "\n",
        "plt.title('Confusion Matrix')\n",
        "plt.xlabel('Predicted Label')\n",
        "plt.ylabel('True Label')\n",
        "plt.xticks(rotation=45)\n",
        "plt.yticks(rotation=0)\n",
        "plt.show()"
      ],
      "metadata": {
        "trusted": true,
        "execution": {
          "iopub.status.busy": "2025-04-21T03:08:59.55782Z",
          "iopub.execute_input": "2025-04-21T03:08:59.558117Z",
          "iopub.status.idle": "2025-04-21T03:08:59.793656Z",
          "shell.execute_reply.started": "2025-04-21T03:08:59.558095Z",
          "shell.execute_reply": "2025-04-21T03:08:59.79297Z"
        },
        "id": "zEk7PRqePp9u"
      },
      "outputs": [],
      "execution_count": null
    },
    {
      "cell_type": "code",
      "source": [
        "from sklearn.metrics import classification_report\n",
        "\n",
        "print(classification_report(y_test, y_pred))"
      ],
      "metadata": {
        "trusted": true,
        "execution": {
          "iopub.status.busy": "2025-04-21T03:07:33.413549Z",
          "iopub.execute_input": "2025-04-21T03:07:33.414304Z",
          "iopub.status.idle": "2025-04-21T03:07:33.432256Z",
          "shell.execute_reply.started": "2025-04-21T03:07:33.414273Z",
          "shell.execute_reply": "2025-04-21T03:07:33.43124Z"
        },
        "id": "z2WKpQVTPp9u"
      },
      "outputs": [],
      "execution_count": null
    },
    {
      "cell_type": "code",
      "source": [],
      "metadata": {
        "trusted": true,
        "id": "Ooq21_CKPp9v"
      },
      "outputs": [],
      "execution_count": null
    }
  ]
}